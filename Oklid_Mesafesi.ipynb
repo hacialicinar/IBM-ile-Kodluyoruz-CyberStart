{
 "cells": [
  {
   "cell_type": "code",
   "execution_count": 2,
   "metadata": {},
   "outputs": [
    {
     "name": "stdout",
     "output_type": "stream",
     "text": [
      "Hesaplanan Mesafeler: [5.656854249492381, 7.0710678118654755, 2.23606797749979, 5.830951894845301, 5.830951894845301, 3.605551275463989, 1.4142135623730951, 5.385164807134504, 4.47213595499958, 3.605551275463989]\n",
      "Minimum Mesafe: 1.4142135623730951\n"
     ]
    }
   ],
   "source": [
    "import math\n",
    "\n",
    "# Noktalar tanımlandı\n",
    "points = [(10, 2), (14, 6), (17, 1), (12, 3), (15, 5)]\n",
    "\n",
    "# Öklid Mesafesi İçin Bir Fonksiyon Yazma:\n",
    "def euclideanDistance(point1, point2):\n",
    "    return math.sqrt((point2[0] - point1[0]) ** 2 + (point2[1] - point1[1]) ** 2)\n",
    "\n",
    "# Mesafelerin Hesaplanması:\n",
    "distances = []\n",
    "for i in range(len(points)):\n",
    "    for j in range(i + 1, len(points)):\n",
    "        distance = euclideanDistance(points[i], points[j])\n",
    "        distances.append(distance)\n",
    "\n",
    "# Minimum Mesafenin Bulunması:\n",
    "min_distance = min(distances)\n",
    "\n",
    "# Sonuçların yazdırılması \n",
    "print(\"Hesaplanan Mesafeler:\", distances) # (Buda içimden geldi :D )\n",
    "print(\"Minimum Mesafe:\", min_distance)\n"
   ]
  }
 ],
 "metadata": {
  "kernelspec": {
   "display_name": "Python 3",
   "language": "python",
   "name": "python3"
  },
  "language_info": {
   "codemirror_mode": {
    "name": "ipython",
    "version": 3
   },
   "file_extension": ".py",
   "mimetype": "text/x-python",
   "name": "python",
   "nbconvert_exporter": "python",
   "pygments_lexer": "ipython3",
   "version": "3.12.1"
  }
 },
 "nbformat": 4,
 "nbformat_minor": 2
}
